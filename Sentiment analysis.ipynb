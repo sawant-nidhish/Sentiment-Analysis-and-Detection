{
 "cells": [
  {
   "cell_type": "code",
   "execution_count": 105,
   "metadata": {},
   "outputs": [],
   "source": [
    "import pandas as pd\n",
    "import numpy as np\n",
    "import matplotlib.pyplot as plt\n",
    "import seaborn as sns\n",
    "import string"
   ]
  },
  {
   "cell_type": "code",
   "execution_count": 94,
   "metadata": {},
   "outputs": [],
   "source": [
    "#reading the data\n",
    "train_data = pd.read_csv('train.txt')\n",
    "test_data = pd.read_csv('test.txt')\n",
    "val_data = pd.read_csv('val.txt')"
   ]
  },
  {
   "cell_type": "code",
   "execution_count": 95,
   "metadata": {},
   "outputs": [],
   "source": [
    "#data processing and cleaning training data\n",
    "train_data.shift(periods=1)[0] = 'i didnt feel humiliated;sadness'\n",
    "train_data.rename(columns={'i didnt feel humiliated;sadness': 'Message'}, inplace = True)\n",
    "train_data[['Message', 'Class']] = train_data.Message.str.split(\";\", expand = True)"
   ]
  },
  {
   "cell_type": "code",
   "execution_count": 96,
   "metadata": {},
   "outputs": [],
   "source": [
    "#data processing and cleaning testing data\n",
    "test_data.shift(periods=1)[0] = 'im feeling rather rotten so im not very ambitious right now;sadness'\n",
    "test_data.rename(columns={'im feeling rather rotten so im not very ambitious right now;sadness': 'Message'}, inplace = True)\n",
    "test_data[['Message', 'Class']] = test_data.Message.str.split(\";\", expand = True)"
   ]
  },
  {
   "cell_type": "code",
   "execution_count": 97,
   "metadata": {},
   "outputs": [],
   "source": [
    "#data processing and cleaning vaidation data\n",
    "val_data.shift(periods=1)[0] = 'im feeling quite sad and sorry for myself but ill snap out of it soon;sadness'\n",
    "val_data.rename(columns={'im feeling quite sad and sorry for myself but ill snap out of it soon;sadness': 'Message'}, inplace = True)\n",
    "val_data[['Message', 'Class']] = val_data.Message.str.split(\";\", expand = True)"
   ]
  },
  {
   "cell_type": "code",
   "execution_count": 98,
   "metadata": {},
   "outputs": [
    {
     "name": "stderr",
     "output_type": "stream",
     "text": [
      "[nltk_data] Downloading package stopwords to\n",
      "[nltk_data]     C:\\Users\\NIDHISH\\AppData\\Roaming\\nltk_data...\n",
      "[nltk_data]   Package stopwords is already up-to-date!\n",
      "[nltk_data] Downloading package punkt to\n",
      "[nltk_data]     C:\\Users\\NIDHISH\\AppData\\Roaming\\nltk_data...\n",
      "[nltk_data]   Package punkt is already up-to-date!\n"
     ]
    }
   ],
   "source": [
    "import nltk\n",
    "from nltk.corpus import stopwords\n",
    "nltk.download('stopwords')\n",
    "nltk.download('punkt')\n",
    "from nltk.tokenize import word_tokenize\n",
    "stop = stopwords.words('english')"
   ]
  },
  {
   "cell_type": "code",
   "execution_count": 106,
   "metadata": {},
   "outputs": [],
   "source": [
    "#the function to process the data\n",
    "def text_process(mess):\n",
    "    \"\"\"\n",
    "    Takes in a string of text, then performs the following:\n",
    "    1. Remove all punctuation\n",
    "    2. Remove all stopwords\n",
    "    3. Returns a list of the cleaned text\n",
    "    \"\"\"\n",
    "    # Check characters to see if they are in punctuation\n",
    "    nopunc = [char for char in mess if char not in string.punctuation]\n",
    "\n",
    "    # Join the characters again to form the string.\n",
    "    nopunc = ''.join(nopunc)\n",
    "    \n",
    "    # Now just remove any stopwords\n",
    "    return [word for word in nopunc.split() if word.lower() not in stopwords.words('english')]"
   ]
  },
  {
   "cell_type": "code",
   "execution_count": 114,
   "metadata": {},
   "outputs": [],
   "source": [
    "from sklearn.svm import SVC\n",
    "model = SVC()"
   ]
  },
  {
   "cell_type": "code",
   "execution_count": 115,
   "metadata": {},
   "outputs": [],
   "source": [
    "from sklearn.feature_extraction.text import CountVectorizer\n",
    "from sklearn.feature_extraction.text import TfidfTransformer"
   ]
  },
  {
   "cell_type": "code",
   "execution_count": 130,
   "metadata": {},
   "outputs": [],
   "source": [
    "from sklearn.pipeline import Pipeline\n",
    "\n",
    "#making a pipeline for processing the data\n",
    "pipeline = Pipeline([\n",
    "    ('bow', CountVectorizer(analyzer=text_process)),  # strings to token integer counts\n",
    "    ('tfidf', TfidfTransformer()),  # integer counts to weighted TF-IDF scores\n",
    "    ('classifier', SVC()),  # train on TF-IDF vectors w/ Naive Bayes classifier\n",
    "])"
   ]
  },
  {
   "cell_type": "code",
   "execution_count": 131,
   "metadata": {
    "scrolled": true
   },
   "outputs": [
    {
     "data": {
      "text/plain": [
       "Pipeline(steps=[('bow',\n",
       "                 CountVectorizer(analyzer=<function text_process at 0x0000016F18766048>)),\n",
       "                ('tfidf', TfidfTransformer()), ('classifier', SVC())])"
      ]
     },
     "execution_count": 131,
     "metadata": {},
     "output_type": "execute_result"
    }
   ],
   "source": [
    "#fitting the data\n",
    "pipeline.fit(train_data['Message'],train_data['Class'])"
   ]
  },
  {
   "cell_type": "code",
   "execution_count": 149,
   "metadata": {},
   "outputs": [],
   "source": [
    "#predicting on validation data\n",
    "predictions = pipeline.predict(val_data['Message'])"
   ]
  },
  {
   "cell_type": "code",
   "execution_count": 150,
   "metadata": {},
   "outputs": [],
   "source": [
    "from sklearn.metrics import classification_report, confusion_matrix"
   ]
  },
  {
   "cell_type": "code",
   "execution_count": 151,
   "metadata": {
    "scrolled": false
   },
   "outputs": [
    {
     "name": "stdout",
     "output_type": "stream",
     "text": [
      "              precision    recall  f1-score   support\n",
      "\n",
      "       anger       0.81      0.91      0.86       246\n",
      "        fear       0.77      0.84      0.80       195\n",
      "         joy       0.96      0.84      0.89       803\n",
      "        love       0.63      0.90      0.75       125\n",
      "     sadness       0.93      0.89      0.91       574\n",
      "    surprise       0.64      0.93      0.76        56\n",
      "\n",
      "    accuracy                           0.87      1999\n",
      "   macro avg       0.79      0.88      0.83      1999\n",
      "weighted avg       0.88      0.87      0.87      1999\n",
      "\n"
     ]
    }
   ],
   "source": [
    "#printing the classification report for va_data\n",
    "print(classification_report(predictions,val_data['Class']))"
   ]
  },
  {
   "cell_type": "code",
   "execution_count": 153,
   "metadata": {},
   "outputs": [
    {
     "name": "stdout",
     "output_type": "stream",
     "text": [
      "              precision    recall  f1-score   support\n",
      "\n",
      "       anger       0.83      0.90      0.86       255\n",
      "        fear       0.80      0.86      0.83       207\n",
      "         joy       0.96      0.83      0.89       804\n",
      "        love       0.54      0.82      0.65       105\n",
      "     sadness       0.92      0.90      0.91       589\n",
      "    surprise       0.52      0.87      0.65        39\n",
      "\n",
      "    accuracy                           0.86      1999\n",
      "   macro avg       0.76      0.86      0.80      1999\n",
      "weighted avg       0.88      0.86      0.87      1999\n",
      "\n"
     ]
    }
   ],
   "source": [
    "#predicting and printing the the classification report on test_data\n",
    "predictions = pipeline.predict(test_data['Message'])\n",
    "print(classification_report(predictions,test_data['Class']))"
   ]
  },
  {
   "cell_type": "code",
   "execution_count": 197,
   "metadata": {},
   "outputs": [
    {
     "name": "stdout",
     "output_type": "stream",
     "text": [
      "message: i feel like it was all in vain cant be right and feel this wrong this heart of mine is just\n",
      "Emotion: fear\n",
      "Expected Emotion: fear\n"
     ]
    }
   ],
   "source": [
    "#example from test_data\n",
    "message = test_data['Message'].iloc[249]\n",
    "print('message:',message)\n",
    "print(\"Emotion:\", test_data['Class'].iloc[4])\n",
    "print(\"Expected Emotion:\", predictions[4])\n"
   ]
  },
  {
   "cell_type": "code",
   "execution_count": null,
   "metadata": {},
   "outputs": [],
   "source": []
  }
 ],
 "metadata": {
  "kernelspec": {
   "display_name": "Python 3",
   "language": "python",
   "name": "python3"
  },
  "language_info": {
   "codemirror_mode": {
    "name": "ipython",
    "version": 3
   },
   "file_extension": ".py",
   "mimetype": "text/x-python",
   "name": "python",
   "nbconvert_exporter": "python",
   "pygments_lexer": "ipython3",
   "version": "3.7.7"
  }
 },
 "nbformat": 4,
 "nbformat_minor": 4
}
